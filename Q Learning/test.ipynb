{
 "cells": [
  {
   "cell_type": "code",
   "execution_count": 1,
   "metadata": {},
   "outputs": [],
   "source": [
    "import numpy as np\n",
    "import matplotlib.pyplot as plt"
   ]
  },
  {
   "cell_type": "code",
   "execution_count": 2,
   "metadata": {},
   "outputs": [],
   "source": [
    "q_table = np.load(\"q_table.npy\")"
   ]
  },
  {
   "cell_type": "code",
   "execution_count": 3,
   "metadata": {},
   "outputs": [
    {
     "name": "stdout",
     "output_type": "stream",
     "text": [
      "[[ 2.53315025  3.9257225   5.47297361 -0.46247107 -0.75641501 -0.5703658 ]\n",
      " [ 3.92557405  5.473025    7.19225    -9.99999831  0.         -0.33216167]\n",
      " [-1.80724619 -6.02785682  0.         11.225       9.10163252  3.47104215]\n",
      " [-1.48585691 -1.11305618  4.24099868  5.70262761 -9.99968365  0.        ]\n",
      " [-1.23611982 -5.81879665  0.         12.49982263 15.          0.        ]\n",
      " [-1.06133909 -0.86038625 -0.53033185 -1.8549375   0.          0.        ]]\n"
     ]
    }
   ],
   "source": [
    "print(q_table[:,:,0])"
   ]
  },
  {
   "cell_type": "code",
   "execution_count": 4,
   "metadata": {},
   "outputs": [
    {
     "name": "stdout",
     "output_type": "stream",
     "text": [
      "[[  1.27979771   1.27981399   2.53307184   1.65676596   2.46845867\n",
      "   -0.58732996]\n",
      " [ -1.03447948  -0.76325073   3.92568063   5.47298988   0.\n",
      "   -2.64908109]\n",
      " [ -1.90759824  -1.617712     0.         -10.           9.10244236\n",
      "   11.22491091]\n",
      " [ -1.49012587  -1.21121604  -0.73497692   0.63114935   7.19215065\n",
      "    0.        ]\n",
      " [ -1.23314316  -1.01742689   0.          -3.36579569  10.24799511\n",
      "    0.        ]\n",
      " [ -1.09742892  -0.92974986  -0.51345561  -0.33287126   0.\n",
      "    0.        ]]\n"
     ]
    }
   ],
   "source": [
    "print(q_table[:,:,1])"
   ]
  },
  {
   "cell_type": "code",
   "execution_count": 5,
   "metadata": {},
   "outputs": [
    {
     "name": "stdout",
     "output_type": "stream",
     "text": [
      "[[  1.27981399   2.53313934   3.92557104   2.03701168  -0.77612703\n",
      "   -0.58053792]\n",
      " [ -2.34586218   0.82888258   3.92569383   5.47292893   0.\n",
      "   -0.38212305]\n",
      " [ -2.15373273   1.60312917   0.           7.19221789 -10.\n",
      "   -0.21495863]\n",
      " [ -1.49555701  -1.21546515  -2.26219063   9.1025      11.22478961\n",
      "    0.        ]\n",
      " [ -1.27414522  -1.05048989   0.           0.7488016   10.24939882\n",
      "    0.        ]\n",
      " [ -1.1114546   -0.8633042   -3.36579569   2.59192018   0.\n",
      "    0.        ]]\n"
     ]
    }
   ],
   "source": [
    "print(q_table[:,:,2])"
   ]
  },
  {
   "cell_type": "code",
   "execution_count": 6,
   "metadata": {},
   "outputs": [
    {
     "name": "stdout",
     "output_type": "stream",
     "text": [
      "[[ 2.53140908  3.92552074  5.473025    7.19225    -3.36579569 -0.49188369]\n",
      " [-2.44604747 -1.29959576 -9.99997913  9.1025      0.          2.42414977]\n",
      " [-1.90880137 -1.6277758   0.          7.19217083 10.25       -9.05531756]\n",
      " [-1.51093051 -1.31951434 -5.3670877   4.34574595 12.5         0.        ]\n",
      " [-1.22669242 -1.02554117  0.         -0.15269635 -9.99975521  0.        ]\n",
      " [-1.11276308 -0.85750962 -0.56476851 -0.34479353  0.          0.        ]]\n"
     ]
    }
   ],
   "source": [
    "print(q_table[:,:,3])"
   ]
  },
  {
   "cell_type": "code",
   "execution_count": null,
   "metadata": {},
   "outputs": [],
   "source": []
  },
  {
   "cell_type": "code",
   "execution_count": null,
   "metadata": {},
   "outputs": [],
   "source": []
  },
  {
   "cell_type": "code",
   "execution_count": null,
   "metadata": {},
   "outputs": [],
   "source": []
  }
 ],
 "metadata": {
  "kernelspec": {
   "display_name": "gymenv",
   "language": "python",
   "name": "python3"
  },
  "language_info": {
   "codemirror_mode": {
    "name": "ipython",
    "version": 3
   },
   "file_extension": ".py",
   "mimetype": "text/x-python",
   "name": "python",
   "nbconvert_exporter": "python",
   "pygments_lexer": "ipython3",
   "version": "3.11.7"
  }
 },
 "nbformat": 4,
 "nbformat_minor": 2
}
